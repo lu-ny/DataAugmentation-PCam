{
 "cells": [
  {
   "cell_type": "markdown",
   "metadata": {
    "id": "x8Dus0lBxM3C"
   },
   "source": [
    "In this notebook, I work on implementing a randAug model using the CIFAR10 dataset. I moved away from PCam due to issues I was having from it, but would like to revist that dataset. "
   ]
  },
  {
   "cell_type": "code",
   "execution_count": 1,
   "metadata": {
    "id": "QlH69tMv6JIR"
   },
   "outputs": [],
   "source": [
    "from fastai import *\n",
    "from fastai.vision.all import *\n",
    "from fastai.imports import *\n",
    "import cv2, os\n",
    "from torchvision import transforms as T\n",
    "from torchvision.transforms import functional as F\n",
    "import albumentations as A\n",
    "import copy\n",
    "import torch.nn as nn\n",
    "import torch.optim as optim\n",
    "from torch.optim import lr_scheduler\n",
    "\n",
    "\n",
    "# Import our custom module for preprocessing\n",
    "from ImagenetDataset import ImagenetDataset"
   ]
  },
  {
   "cell_type": "code",
   "execution_count": 2,
   "metadata": {
    "id": "UwNH8-Btbk9d"
   },
   "outputs": [],
   "source": [
    "# Data is already downloaded\n",
    "root = Path(\"D:\\\\tensorflow_datasets\\\\cifar10\")"
   ]
  },
  {
   "cell_type": "code",
   "execution_count": 3,
   "metadata": {
    "id": "q-k0ZpjZcqyR"
   },
   "outputs": [],
   "source": [
    "# get our training images and our test images, which we will use for validation\n",
    "train_images = get_image_files(root/\"train\")\n",
    "val_images = get_image_files(root/\"test\")"
   ]
  },
  {
   "cell_type": "markdown",
   "metadata": {},
   "source": [
    "We will need to use dataframes since albumentations uses arrays to apply the augmentations"
   ]
  },
  {
   "cell_type": "code",
   "execution_count": 4,
   "metadata": {
    "colab": {
     "base_uri": "https://localhost:8080/",
     "height": 195
    },
    "id": "_ThfKTmN6S_F",
    "outputId": "a82f4a00-4b83-4c83-f46c-1fcadc639696"
   },
   "outputs": [
    {
     "data": {
      "text/html": [
       "<div>\n",
       "<style scoped>\n",
       "    .dataframe tbody tr th:only-of-type {\n",
       "        vertical-align: middle;\n",
       "    }\n",
       "\n",
       "    .dataframe tbody tr th {\n",
       "        vertical-align: top;\n",
       "    }\n",
       "\n",
       "    .dataframe thead th {\n",
       "        text-align: right;\n",
       "    }\n",
       "</style>\n",
       "<table border=\"1\" class=\"dataframe\">\n",
       "  <thead>\n",
       "    <tr style=\"text-align: right;\">\n",
       "      <th></th>\n",
       "      <th>image</th>\n",
       "      <th>label</th>\n",
       "    </tr>\n",
       "  </thead>\n",
       "  <tbody>\n",
       "    <tr>\n",
       "      <th>0</th>\n",
       "      <td>2355.png</td>\n",
       "      <td>dog</td>\n",
       "    </tr>\n",
       "    <tr>\n",
       "      <th>1</th>\n",
       "      <td>1212.png</td>\n",
       "      <td>automobile</td>\n",
       "    </tr>\n",
       "    <tr>\n",
       "      <th>2</th>\n",
       "      <td>4629.png</td>\n",
       "      <td>bird</td>\n",
       "    </tr>\n",
       "    <tr>\n",
       "      <th>3</th>\n",
       "      <td>0059.png</td>\n",
       "      <td>airplane</td>\n",
       "    </tr>\n",
       "    <tr>\n",
       "      <th>4</th>\n",
       "      <td>2885.png</td>\n",
       "      <td>bird</td>\n",
       "    </tr>\n",
       "  </tbody>\n",
       "</table>\n",
       "</div>"
      ],
      "text/plain": [
       "      image       label\n",
       "0  2355.png         dog\n",
       "1  1212.png  automobile\n",
       "2  4629.png        bird\n",
       "3  0059.png    airplane\n",
       "4  2885.png        bird"
      ]
     },
     "execution_count": 4,
     "metadata": {},
     "output_type": "execute_result"
    }
   ],
   "source": [
    "# Create a df using the labels (file names) and image names\n",
    "def create_df(paths):\n",
    "    names = [str(img.name) for img in paths]\n",
    "    labels = [str(img.parent).split(\"\\\\\")[-1] for img in paths]\n",
    "    data = np.array([names, labels]).T\n",
    "    np.random.shuffle(data)\n",
    "    return pd.DataFrame(data,columns=[\"image\", \"label\"])\n",
    "\n",
    "# Make our training df\n",
    "train_df = create_df(train_images)\n",
    "train_df.head()"
   ]
  },
  {
   "cell_type": "code",
   "execution_count": 5,
   "metadata": {
    "colab": {
     "base_uri": "https://localhost:8080/",
     "height": 195
    },
    "id": "XH_rbOCY0K17",
    "outputId": "81158ca0-1a5b-47b1-d5e0-d1a7ce5e0f97"
   },
   "outputs": [
    {
     "data": {
      "text/html": [
       "<div>\n",
       "<style scoped>\n",
       "    .dataframe tbody tr th:only-of-type {\n",
       "        vertical-align: middle;\n",
       "    }\n",
       "\n",
       "    .dataframe tbody tr th {\n",
       "        vertical-align: top;\n",
       "    }\n",
       "\n",
       "    .dataframe thead th {\n",
       "        text-align: right;\n",
       "    }\n",
       "</style>\n",
       "<table border=\"1\" class=\"dataframe\">\n",
       "  <thead>\n",
       "    <tr style=\"text-align: right;\">\n",
       "      <th></th>\n",
       "      <th>image</th>\n",
       "      <th>label</th>\n",
       "    </tr>\n",
       "  </thead>\n",
       "  <tbody>\n",
       "    <tr>\n",
       "      <th>0</th>\n",
       "      <td>0949.png</td>\n",
       "      <td>dog</td>\n",
       "    </tr>\n",
       "    <tr>\n",
       "      <th>1</th>\n",
       "      <td>0847.png</td>\n",
       "      <td>deer</td>\n",
       "    </tr>\n",
       "    <tr>\n",
       "      <th>2</th>\n",
       "      <td>0014.png</td>\n",
       "      <td>bird</td>\n",
       "    </tr>\n",
       "    <tr>\n",
       "      <th>3</th>\n",
       "      <td>0931.png</td>\n",
       "      <td>automobile</td>\n",
       "    </tr>\n",
       "    <tr>\n",
       "      <th>4</th>\n",
       "      <td>0016.png</td>\n",
       "      <td>cat</td>\n",
       "    </tr>\n",
       "  </tbody>\n",
       "</table>\n",
       "</div>"
      ],
      "text/plain": [
       "      image       label\n",
       "0  0949.png         dog\n",
       "1  0847.png        deer\n",
       "2  0014.png        bird\n",
       "3  0931.png  automobile\n",
       "4  0016.png         cat"
      ]
     },
     "execution_count": 5,
     "metadata": {},
     "output_type": "execute_result"
    }
   ],
   "source": [
    "valid_df = create_df(val_images)\n",
    "valid_df.head()"
   ]
  },
  {
   "cell_type": "code",
   "execution_count": 6,
   "metadata": {
    "colab": {
     "base_uri": "https://localhost:8080/"
    },
    "id": "QrkzAgoVEX0M",
    "outputId": "2cffe17b-4f35-47c3-aaef-47ff32c3e435"
   },
   "outputs": [
    {
     "data": {
      "text/plain": [
       "{'dog': 0,\n",
       " 'automobile': 1,\n",
       " 'bird': 2,\n",
       " 'airplane': 3,\n",
       " 'horse': 4,\n",
       " 'cat': 5,\n",
       " 'deer': 6,\n",
       " 'frog': 7,\n",
       " 'truck': 8,\n",
       " 'ship': 9}"
      ]
     },
     "execution_count": 6,
     "metadata": {},
     "output_type": "execute_result"
    }
   ],
   "source": [
    "label_dict = {l:i for i,l in enumerate(train_df[\"label\"].unique())}\n",
    "label_dict"
   ]
  },
  {
   "cell_type": "code",
   "execution_count": 7,
   "metadata": {
    "id": "l9a_DDyZcok7"
   },
   "outputs": [],
   "source": [
    "def randAugment(N, M, p):\n",
    "\n",
    "    shift_x = np.linspace(0,150,10)\n",
    "    shift_y = np.linspace(0,150,10)\n",
    "    rot = np.linspace(0,30,10)\n",
    "    shear = np.linspace(0,10,10)\n",
    "    sola = np.linspace(0,256,10)\n",
    "    post = [4,4,5,5,6,6,7,7,8,8]\n",
    "    cont = [np.linspace(-0.8,-0.1,10),np.linspace(0.1,2,10)]\n",
    "    bright = np.linspace(0.1,0.7,10)\n",
    "    shar = np.linspace(0.1,0.9,10)\n",
    "    cut = np.linspace(0,60,10)\n",
    "\n",
    "    Aug =[A.ShiftScaleRotate(shift_limit_x=shift_x[M], rotate_limit=0, shift_limit_y=0, shift_limit=shift_x[M], p=p),\n",
    "        A.ShiftScaleRotate(shift_limit_y=shift_y[M], rotate_limit=0, shift_limit_x=0, shift_limit=shift_y[M], p=p),\n",
    "        A.Affine(rotate=rot[M], p=p),\n",
    "        A.Affine(shear=shear[M], p=p),\n",
    "        A.InvertImg(p=p),\n",
    "        A.Equalize(p=p),\n",
    "        A.Solarize(threshold=sola[M], p=p),\n",
    "        A.Posterize(num_bits=post[M], p=p),\n",
    "        #the following two need to be combined as there is a new class\n",
    "        A.RandomContrast(limit=[cont[0][M], cont[1][M]], p=p),\n",
    "        A.RandomBrightness(limit=bright[M], p=p),\n",
    "        A.Sharpen(alpha=shar[M], lightness=shar[M], p=p)]\n",
    "\n",
    "\n",
    "    ops = np.random.choice(Aug, N)\n",
    "    \n",
    "    transforms = A.Compose(ops)\n",
    "    return transforms, ops"
   ]
  },
  {
   "cell_type": "code",
   "execution_count": 8,
   "metadata": {
    "colab": {
     "base_uri": "https://localhost:8080/",
     "height": 757
    },
    "id": "y4-vJDXzOTLp",
    "outputId": "f8f0291a-4ac5-46e9-ea4e-2018a3b973fe"
   },
   "outputs": [
    {
     "name": "stderr",
     "output_type": "stream",
     "text": [
      "C:\\Users\\suraj\\anaconda3\\lib\\site-packages\\albumentations\\augmentations\\transforms.py:1826: FutureWarning: This class has been deprecated. Please use RandomBrightnessContrast\n",
      "  warnings.warn(\n",
      "C:\\Users\\suraj\\anaconda3\\lib\\site-packages\\albumentations\\augmentations\\transforms.py:1800: FutureWarning: This class has been deprecated. Please use RandomBrightnessContrast\n",
      "  warnings.warn(\n"
     ]
    },
    {
     "data": {
      "image/png": "[encoded data removed]",
      "text/plain": [
       "<Figure size 576x288 with 8 Axes>"
      ]
     },
     "metadata": {
      "needs_background": "light"
     },
     "output_type": "display_data"
    }
   ],
   "source": [
    "idx = np.random.randint(0,len(train_images)-1, 4)\n",
    "fig, ax = plt.subplots(2,4, figsize=(8,4))\n",
    "fig.tight_layout()\n",
    "M = 5\n",
    "for i in range(2):\n",
    "    for j in range(4):\n",
    "        img = cv2.imread(str(train_images[int(idx[j])]))\n",
    "        img = cv2.resize(img,(254,254))\n",
    "        if i == 1:\n",
    "            transforms, ops = randAugment(2, M, 1)\n",
    "            img = transforms(image=img)[\"image\"]\n",
    "        ax[i][j].get_xaxis().set_visible(False)\n",
    "        ax[i][j].get_yaxis().set_visible(False)\n",
    "        ax[i][j].set_title(str(M))\n",
    "        ax[i][j].imshow(img)"
   ]
  },
  {
   "cell_type": "code",
   "execution_count": 9,
   "metadata": {
    "colab": {
     "base_uri": "https://localhost:8080/"
    },
    "id": "CEAte1lf7NVv",
    "outputId": "e6252d42-0cb8-419c-e635-dbd9cb09f2fb"
   },
   "outputs": [
    {
     "data": {
      "text/plain": [
       "10"
      ]
     },
     "execution_count": 9,
     "metadata": {},
     "output_type": "execute_result"
    }
   ],
   "source": [
    "len(train_df[\"label\"].unique())"
   ]
  },
  {
   "cell_type": "code",
   "execution_count": 10,
   "metadata": {
    "colab": {
     "base_uri": "https://localhost:8080/"
    },
    "id": "TnBtwbVxCknA",
    "outputId": "3a875f52-638b-4320-f2c4-de796678cce1"
   },
   "outputs": [
    {
     "data": {
      "text/plain": [
       "tensor([0., 0., 0., 0., 0., 1., 0., 0., 0., 0.])"
      ]
     },
     "execution_count": 10,
     "metadata": {},
     "output_type": "execute_result"
    }
   ],
   "source": [
    "dataset = ImagenetDataset(root/\"train\", train_df, label_dict=label_dict)\n",
    "dataset.__getitem__(1)[1]"
   ]
  },
  {
   "cell_type": "code",
   "execution_count": 11,
   "metadata": {
    "id": "ER_dRO9K0vYN"
   },
   "outputs": [],
   "source": [
    "def create_dataloaders(root, train_df, valid_df, label_dict, transforms, dim = 256, bs=64):\n",
    "\n",
    "    data_loaders = {}\n",
    "    dataset_sizes = {}\n",
    "\n",
    "    train_dataset = ImagenetDataset(path=root/\"train\", df=train_df, label_dict=label_dict, dim=dim, transforms=transforms)\n",
    "    valid_dataset = ImagenetDataset(path=root/\"test\", df=valid_df, label_dict=label_dict, dim=dim)\n",
    "\n",
    "    data_loaders[\"train\"] = torch.utils.data.DataLoader(train_dataset, batch_size=bs,shuffle=True, num_workers=2)\n",
    "    data_loaders[\"val\"] = torch.utils.data.DataLoader(valid_dataset, batch_size=bs,shuffle=False, num_workers=2)\n",
    "\n",
    "    dataset_sizes[\"train\"] = len(train_dataset)\n",
    "    dataset_sizes[\"val\"] = len(valid_dataset)\n",
    "\n",
    "    return data_loaders, dataset_sizes\n"
   ]
  },
  {
   "cell_type": "code",
   "execution_count": 12,
   "metadata": {
    "colab": {
     "base_uri": "https://localhost:8080/"
    },
    "id": "NwNTQsVxzRrC",
    "outputId": "373cbfe5-f588-4175-b5bd-5f5bc9b971b1"
   },
   "outputs": [
    {
     "data": {
      "text/plain": [
       "Linear(in_features=512, out_features=10, bias=True)"
      ]
     },
     "execution_count": 12,
     "metadata": {},
     "output_type": "execute_result"
    }
   ],
   "source": [
    "model = models.resnet18()\n",
    "num_ftrs = model.fc.in_features\n",
    "model.fc = nn.Linear(num_ftrs, 10)\n",
    "model.fc"
   ]
  },
  {
   "cell_type": "code",
   "execution_count": 13,
   "metadata": {
    "colab": {
     "base_uri": "https://localhost:8080/"
    },
    "id": "3WPQMJvzzdEZ",
    "outputId": "96cab9a9-68a4-4438-c624-2944b3b75d1d"
   },
   "outputs": [
    {
     "data": {
      "text/plain": [
       "device(type='cuda')"
      ]
     },
     "execution_count": 13,
     "metadata": {},
     "output_type": "execute_result"
    }
   ],
   "source": [
    "device = torch.device('cuda') if torch.cuda.is_available() else torch.device('cpu')\n",
    "device"
   ]
  },
  {
   "cell_type": "code",
   "execution_count": 14,
   "metadata": {
    "id": "b0q8ZFS14IBz"
   },
   "outputs": [],
   "source": [
    "def train_model(model, criterion, optimizer, scheduler, max_M=9, num_epochs=2):\n",
    "\n",
    "    best_model_wts = copy.deepcopy(model.state_dict())\n",
    "    best_acc = 0.0\n",
    "\n",
    "    N=2;M=0;p=0.5\n",
    "\n",
    "    for epoch in range(num_epochs):\n",
    "        print('Epoch {}/{}'.format(epoch, num_epochs - 1))\n",
    "        print('-' * 10)\n",
    "    \n",
    "        transforms, ops = randAugment(N=N, M=M, p=p)\n",
    "        dataloaders, dataset_sizes = create_dataloaders(root, train_df, valid_df, label_dict, bs=64, transforms=transforms)\n",
    "\n",
    "        # Each epoch has a training and validation phase\n",
    "        for phase in ['train', 'val']:\n",
    "            if phase == 'train':\n",
    "                model.train()  # Set model to training mode\n",
    "            else:\n",
    "                model.eval()   # Set model to evaluate mode\n",
    "\n",
    "            running_loss = 0.0\n",
    "            running_corrects = 0\n",
    "\n",
    "            # Iterate over data.\n",
    "            for inputs, labels in dataloaders[phase]:\n",
    "                inputs = inputs.to(device)\n",
    "                labels = labels.to(device)\n",
    "\n",
    "                # zero the parameter gradients\n",
    "                optimizer.zero_grad()\n",
    "\n",
    "                # forward\n",
    "                # track history if only in train\n",
    "                with torch.set_grad_enabled(phase == 'train'):\n",
    "                    outputs = model(inputs)\n",
    "                    preds = torch.argmax(input = outputs, dim = 1)\n",
    "                    loss = criterion(outputs, labels)\n",
    "\n",
    "                    # backward + optimize only if in training phase\n",
    "                    if phase == 'train':\n",
    "                        loss.backward()\n",
    "                        optimizer.step()\n",
    "\n",
    "                # statistics\n",
    "                running_loss += loss.item() * inputs.size(0)\n",
    "                running_corrects += torch.sum(preds == torch.argmax(input = labels, dim = 1))\n",
    "            if phase == 'train':\n",
    "                scheduler.step()\n",
    "\n",
    "            epoch_loss = running_loss / dataset_sizes[phase]\n",
    "            epoch_acc = running_corrects.double() / dataset_sizes[phase]\n",
    "\n",
    "            print('{} Loss: {:.4f} Acc: {:.4f}'.format(\n",
    "                phase, epoch_loss, epoch_acc))\n",
    "\n",
    "            # deep copy the model\n",
    "            if phase == 'val' and epoch_acc > best_acc:\n",
    "                best_acc = epoch_acc\n",
    "                best_model_wts = copy.deepcopy(model.state_dict())\n",
    "            elif phase == 'val' and epoch_acc < best_acc:\n",
    "                stp = int((9-M)*((best_acc-epoch_acc)/best_acc))\n",
    "                M += max(1,stp)\n",
    "                M = min(M, max_M)\n",
    "                if M < max_M:\n",
    "                  print(\"Augmentaion Magnitude Changed To : {}\\n\".format(M))\n",
    "\n",
    "\n",
    "    print('Best Val Acc: {:4f}'.format(best_acc))\n",
    "    \n",
    "\n",
    "    # load best model weights\n",
    "    model.load_state_dict(best_model_wts)\n",
    "    return model"
   ]
  },
  {
   "cell_type": "markdown",
   "metadata": {},
   "source": [
    "Whenever epoch accuracy is lower than our best accuracy in our validation set, we increment M up to a defined maximum. We can also modify N, which is the number of transformations. "
   ]
  },
  {
   "cell_type": "code",
   "execution_count": 15,
   "metadata": {
    "id": "3NJ49JyvKJD6"
   },
   "outputs": [],
   "source": [
    "model = models.resnet18()\n",
    "num_ftrs = model.fc.in_features\n",
    "model.fc = nn.Linear(num_ftrs, 10)\n",
    "model.fc\n",
    "model.to(device)\n",
    "param = model.parameters()\n",
    "optimizer_ft=torch.optim.Adam(param, lr=0.001)\n",
    "criterion=nn.BCEWithLogitsLoss()\n",
    "exp_lr_scheduler = lr_scheduler.StepLR(optimizer_ft, step_size=20, gamma=0.1)"
   ]
  },
  {
   "cell_type": "code",
   "execution_count": 16,
   "metadata": {
    "colab": {
     "base_uri": "https://localhost:8080/"
    },
    "id": "AGp0_VDJ4qMt",
    "outputId": "a5b4d7ff-441a-4e68-be8a-2789e1f69730",
    "scrolled": false
   },
   "outputs": [
    {
     "name": "stdout",
     "output_type": "stream",
     "text": [
      "Epoch 0/99\n",
      "----------\n",
      "train Loss: 0.3287 Acc: 0.1017\n",
      "val Loss: 0.3275 Acc: 0.0964\n",
      "Epoch 1/99\n",
      "----------\n",
      "train Loss: 0.3269 Acc: 0.0976\n",
      "val Loss: 0.3266 Acc: 0.1059\n",
      "Epoch 2/99\n",
      "----------\n",
      "train Loss: 0.3265 Acc: 0.1032\n",
      "val Loss: 0.3264 Acc: 0.1064\n",
      "Epoch 3/99\n",
      "----------\n",
      "train Loss: 0.3261 Acc: 0.1027\n",
      "val Loss: 0.3319 Acc: 0.0936\n",
      "Augmentaion Magnitude Changed To : 1\n",
      "\n",
      "Epoch 4/99\n",
      "----------\n",
      "train Loss: 0.3260 Acc: 0.1004\n",
      "val Loss: 0.3263 Acc: 0.0920\n",
      "Augmentaion Magnitude Changed To : 2\n",
      "\n",
      "Epoch 5/99\n",
      "----------\n",
      "train Loss: 0.3258 Acc: 0.0975\n",
      "val Loss: 0.3264 Acc: 0.0936\n",
      "Augmentaion Magnitude Changed To : 3\n",
      "\n",
      "Epoch 6/99\n",
      "----------\n",
      "train Loss: 0.3256 Acc: 0.0995\n",
      "val Loss: 0.3261 Acc: 0.1058\n",
      "Augmentaion Magnitude Changed To : 4\n",
      "\n",
      "Epoch 7/99\n",
      "----------\n",
      "train Loss: 0.3255 Acc: 0.1029\n",
      "val Loss: 0.3260 Acc: 0.1034\n",
      "Augmentaion Magnitude Changed To : 5\n",
      "\n",
      "Epoch 8/99\n",
      "----------\n",
      "train Loss: 0.3254 Acc: 0.1042\n",
      "val Loss: 0.3254 Acc: 0.0920\n",
      "Augmentaion Magnitude Changed To : 6\n",
      "\n",
      "Epoch 9/99\n",
      "----------\n",
      "train Loss: 0.3254 Acc: 0.1023\n",
      "val Loss: 0.3252 Acc: 0.1060\n",
      "Augmentaion Magnitude Changed To : 7\n",
      "\n",
      "Epoch 10/99\n",
      "----------\n",
      "train Loss: 0.3253 Acc: 0.1000\n",
      "val Loss: 0.3259 Acc: 0.0851\n",
      "Augmentaion Magnitude Changed To : 8\n",
      "\n",
      "Epoch 11/99\n",
      "----------\n",
      "train Loss: 0.3253 Acc: 0.1037\n",
      "val Loss: 0.3255 Acc: 0.1065\n",
      "Epoch 12/99\n",
      "----------\n",
      "train Loss: 0.3253 Acc: 0.1033\n",
      "val Loss: 0.3257 Acc: 0.0999\n",
      "Epoch 13/99\n",
      "----------\n",
      "train Loss: 0.3253 Acc: 0.1008\n",
      "val Loss: 0.3252 Acc: 0.1060\n",
      "Epoch 14/99\n",
      "----------\n",
      "train Loss: 0.3253 Acc: 0.1038\n",
      "val Loss: 0.3254 Acc: 0.1031\n",
      "Epoch 15/99\n",
      "----------\n",
      "train Loss: 0.3253 Acc: 0.1031\n",
      "val Loss: 0.3254 Acc: 0.0859\n",
      "Epoch 16/99\n",
      "----------\n",
      "train Loss: 0.3252 Acc: 0.1015\n",
      "val Loss: 0.3256 Acc: 0.1020\n",
      "Epoch 17/99\n",
      "----------\n",
      "train Loss: 0.3253 Acc: 0.1008\n",
      "val Loss: 0.3251 Acc: 0.1030\n",
      "Epoch 18/99\n",
      "----------\n",
      "train Loss: 0.3252 Acc: 0.1018\n",
      "val Loss: 0.3260 Acc: 0.0850\n",
      "Epoch 19/99\n",
      "----------\n",
      "train Loss: 0.3252 Acc: 0.1021\n",
      "val Loss: 0.3250 Acc: 0.1036\n",
      "Epoch 20/99\n",
      "----------\n",
      "train Loss: 0.3251 Acc: 0.1059\n",
      "val Loss: 0.3253 Acc: 0.1060\n",
      "Epoch 21/99\n",
      "----------\n",
      "train Loss: 0.3250 Acc: 0.1051\n",
      "val Loss: 0.3253 Acc: 0.1060\n",
      "Epoch 22/99\n",
      "----------\n",
      "train Loss: 0.3250 Acc: 0.1053\n",
      "val Loss: 0.3253 Acc: 0.1026\n",
      "Epoch 23/99\n",
      "----------\n",
      "train Loss: 0.3250 Acc: 0.1063\n",
      "val Loss: 0.3253 Acc: 0.1060\n",
      "Epoch 24/99\n",
      "----------\n",
      "train Loss: 0.3250 Acc: 0.1049\n",
      "val Loss: 0.3253 Acc: 0.1043\n",
      "Epoch 25/99\n",
      "----------\n",
      "train Loss: 0.3250 Acc: 0.1070\n",
      "val Loss: 0.3253 Acc: 0.1034\n",
      "Epoch 26/99\n",
      "----------\n",
      "train Loss: 0.3250 Acc: 0.1052\n",
      "val Loss: 0.3254 Acc: 0.1033\n",
      "Epoch 27/99\n",
      "----------\n",
      "train Loss: 0.3250 Acc: 0.1057\n",
      "val Loss: 0.3254 Acc: 0.0944\n",
      "Epoch 28/99\n",
      "----------\n",
      "train Loss: 0.3250 Acc: 0.1057\n",
      "val Loss: 0.3253 Acc: 0.1030\n",
      "Epoch 29/99\n",
      "----------\n",
      "train Loss: 0.3250 Acc: 0.1075\n",
      "val Loss: 0.3254 Acc: 0.1031\n",
      "Epoch 30/99\n",
      "----------\n",
      "train Loss: 0.3250 Acc: 0.1065\n",
      "val Loss: 0.3253 Acc: 0.1061\n",
      "Epoch 31/99\n",
      "----------\n",
      "train Loss: 0.3250 Acc: 0.1062\n",
      "val Loss: 0.3254 Acc: 0.1041\n",
      "Epoch 32/99\n",
      "----------\n",
      "train Loss: 0.3250 Acc: 0.1036\n",
      "val Loss: 0.3254 Acc: 0.1059\n",
      "Epoch 33/99\n",
      "----------\n",
      "train Loss: 0.3250 Acc: 0.1057\n",
      "val Loss: 0.3254 Acc: 0.0983\n",
      "Epoch 34/99\n",
      "----------\n",
      "train Loss: 0.3250 Acc: 0.1058\n",
      "val Loss: 0.3253 Acc: 0.1053\n",
      "Epoch 35/99\n",
      "----------\n",
      "train Loss: 0.3250 Acc: 0.1073\n",
      "val Loss: 0.3254 Acc: 0.0984\n",
      "Epoch 36/99\n",
      "----------\n",
      "train Loss: 0.3250 Acc: 0.1076\n",
      "val Loss: 0.3255 Acc: 0.0964\n",
      "Epoch 37/99\n",
      "----------\n",
      "train Loss: 0.3250 Acc: 0.1061\n",
      "val Loss: 0.3253 Acc: 0.1055\n",
      "Epoch 38/99\n",
      "----------\n",
      "train Loss: 0.3250 Acc: 0.1065\n",
      "val Loss: 0.3254 Acc: 0.1047\n",
      "Epoch 39/99\n",
      "----------\n",
      "train Loss: 0.3250 Acc: 0.1057\n",
      "val Loss: 0.3254 Acc: 0.1044\n",
      "Epoch 40/99\n",
      "----------\n",
      "train Loss: 0.3250 Acc: 0.1082\n",
      "val Loss: 0.3254 Acc: 0.1032\n",
      "Epoch 41/99\n",
      "----------\n",
      "train Loss: 0.3250 Acc: 0.1074\n",
      "val Loss: 0.3254 Acc: 0.1034\n",
      "Epoch 42/99\n",
      "----------\n",
      "train Loss: 0.3250 Acc: 0.1078\n",
      "val Loss: 0.3254 Acc: 0.1026\n",
      "Epoch 43/99\n",
      "----------\n",
      "train Loss: 0.3250 Acc: 0.1061\n",
      "val Loss: 0.3254 Acc: 0.1046\n",
      "Epoch 44/99\n",
      "----------\n",
      "train Loss: 0.3249 Acc: 0.1089\n",
      "val Loss: 0.3254 Acc: 0.1037\n",
      "Epoch 45/99\n",
      "----------\n",
      "train Loss: 0.3250 Acc: 0.1069\n",
      "val Loss: 0.3254 Acc: 0.1032\n",
      "Epoch 46/99\n",
      "----------\n",
      "train Loss: 0.3250 Acc: 0.1090\n",
      "val Loss: 0.3254 Acc: 0.1031\n",
      "Epoch 47/99\n",
      "----------\n",
      "train Loss: 0.3250 Acc: 0.1068\n",
      "val Loss: 0.3254 Acc: 0.1031\n",
      "Epoch 48/99\n",
      "----------\n",
      "train Loss: 0.3250 Acc: 0.1078\n",
      "val Loss: 0.3254 Acc: 0.1033\n",
      "Epoch 49/99\n",
      "----------\n",
      "train Loss: 0.3250 Acc: 0.1061\n",
      "val Loss: 0.3254 Acc: 0.1035\n",
      "Epoch 50/99\n",
      "----------\n",
      "train Loss: 0.3249 Acc: 0.1109\n",
      "val Loss: 0.3254 Acc: 0.1032\n",
      "Epoch 51/99\n",
      "----------\n",
      "train Loss: 0.3249 Acc: 0.1071\n",
      "val Loss: 0.3254 Acc: 0.1032\n",
      "Epoch 52/99\n",
      "----------\n",
      "train Loss: 0.3250 Acc: 0.1074\n",
      "val Loss: 0.3254 Acc: 0.1034\n",
      "Epoch 53/99\n",
      "----------\n",
      "train Loss: 0.3249 Acc: 0.1104\n",
      "val Loss: 0.3254 Acc: 0.1037\n",
      "Epoch 54/99\n",
      "----------\n",
      "train Loss: 0.3250 Acc: 0.1085\n",
      "val Loss: 0.3254 Acc: 0.1058\n",
      "Epoch 55/99\n",
      "----------\n",
      "train Loss: 0.3249 Acc: 0.1085\n",
      "val Loss: 0.3254 Acc: 0.1040\n",
      "Epoch 56/99\n",
      "----------\n",
      "train Loss: 0.3249 Acc: 0.1099\n",
      "val Loss: 0.3254 Acc: 0.1038\n",
      "Epoch 57/99\n",
      "----------\n",
      "train Loss: 0.3250 Acc: 0.1088\n",
      "val Loss: 0.3254 Acc: 0.1038\n",
      "Epoch 58/99\n",
      "----------\n",
      "train Loss: 0.3250 Acc: 0.1067\n",
      "val Loss: 0.3254 Acc: 0.1034\n",
      "Epoch 59/99\n",
      "----------\n",
      "train Loss: 0.3249 Acc: 0.1100\n",
      "val Loss: 0.3254 Acc: 0.1046\n",
      "Epoch 60/99\n",
      "----------\n",
      "train Loss: 0.3250 Acc: 0.1059\n",
      "val Loss: 0.3254 Acc: 0.1038\n",
      "Epoch 61/99\n",
      "----------\n",
      "train Loss: 0.3249 Acc: 0.1081\n",
      "val Loss: 0.3254 Acc: 0.1042\n",
      "Epoch 62/99\n",
      "----------\n",
      "train Loss: 0.3250 Acc: 0.1076\n",
      "val Loss: 0.3254 Acc: 0.1040\n",
      "Epoch 63/99\n",
      "----------\n",
      "train Loss: 0.3250 Acc: 0.1071\n",
      "val Loss: 0.3254 Acc: 0.1036\n",
      "Epoch 64/99\n",
      "----------\n",
      "train Loss: 0.3249 Acc: 0.1108\n",
      "val Loss: 0.3254 Acc: 0.1023\n",
      "Epoch 65/99\n",
      "----------\n",
      "train Loss: 0.3249 Acc: 0.1093\n",
      "val Loss: 0.3254 Acc: 0.1039\n",
      "Epoch 66/99\n",
      "----------\n",
      "train Loss: 0.3250 Acc: 0.1058\n",
      "val Loss: 0.3254 Acc: 0.1060\n",
      "Epoch 67/99\n",
      "----------\n",
      "train Loss: 0.3249 Acc: 0.1097\n",
      "val Loss: 0.3254 Acc: 0.1032\n",
      "Epoch 68/99\n",
      "----------\n",
      "train Loss: 0.3249 Acc: 0.1079\n",
      "val Loss: 0.3254 Acc: 0.1036\n",
      "Epoch 69/99\n",
      "----------\n",
      "train Loss: 0.3249 Acc: 0.1080\n",
      "val Loss: 0.3254 Acc: 0.1021\n",
      "Epoch 70/99\n",
      "----------\n",
      "train Loss: 0.3249 Acc: 0.1073\n",
      "val Loss: 0.3254 Acc: 0.1046\n",
      "Epoch 71/99\n",
      "----------\n",
      "train Loss: 0.3249 Acc: 0.1088\n",
      "val Loss: 0.3254 Acc: 0.1068\n",
      "Epoch 72/99\n",
      "----------\n",
      "train Loss: 0.3249 Acc: 0.1073\n",
      "val Loss: 0.3254 Acc: 0.1068\n",
      "Epoch 73/99\n",
      "----------\n",
      "train Loss: 0.3250 Acc: 0.1059\n",
      "val Loss: 0.3254 Acc: 0.1021\n",
      "Epoch 74/99\n",
      "----------\n",
      "train Loss: 0.3249 Acc: 0.1076\n",
      "val Loss: 0.3254 Acc: 0.1030\n",
      "Epoch 75/99\n",
      "----------\n",
      "train Loss: 0.3250 Acc: 0.1089\n",
      "val Loss: 0.3254 Acc: 0.1040\n",
      "Epoch 76/99\n",
      "----------\n",
      "train Loss: 0.3250 Acc: 0.1069\n",
      "val Loss: 0.3254 Acc: 0.1032\n",
      "Epoch 77/99\n",
      "----------\n",
      "train Loss: 0.3250 Acc: 0.1080\n",
      "val Loss: 0.3254 Acc: 0.1028\n",
      "Epoch 78/99\n",
      "----------\n",
      "train Loss: 0.3250 Acc: 0.1070\n",
      "val Loss: 0.3254 Acc: 0.1053\n",
      "Epoch 79/99\n",
      "----------\n",
      "train Loss: 0.3249 Acc: 0.1090\n",
      "val Loss: 0.3254 Acc: 0.1040\n",
      "Epoch 80/99\n",
      "----------\n",
      "train Loss: 0.3250 Acc: 0.1071\n",
      "val Loss: 0.3254 Acc: 0.1029\n",
      "Epoch 81/99\n",
      "----------\n",
      "train Loss: 0.3250 Acc: 0.1073\n",
      "val Loss: 0.3254 Acc: 0.1044\n",
      "Epoch 82/99\n",
      "----------\n",
      "train Loss: 0.3250 Acc: 0.1079\n",
      "val Loss: 0.3254 Acc: 0.1033\n",
      "Epoch 83/99\n",
      "----------\n",
      "train Loss: 0.3248 Acc: 0.1118\n",
      "val Loss: 0.3254 Acc: 0.1027\n",
      "Epoch 84/99\n",
      "----------\n",
      "train Loss: 0.3250 Acc: 0.1078\n",
      "val Loss: 0.3254 Acc: 0.1025\n",
      "Epoch 85/99\n",
      "----------\n",
      "train Loss: 0.3249 Acc: 0.1082\n",
      "val Loss: 0.3254 Acc: 0.1020\n",
      "Epoch 86/99\n",
      "----------\n",
      "train Loss: 0.3250 Acc: 0.1075\n",
      "val Loss: 0.3254 Acc: 0.1033\n",
      "Epoch 87/99\n",
      "----------\n",
      "train Loss: 0.3249 Acc: 0.1086\n",
      "val Loss: 0.3254 Acc: 0.1036\n",
      "Epoch 88/99\n",
      "----------\n",
      "train Loss: 0.3250 Acc: 0.1072\n",
      "val Loss: 0.3254 Acc: 0.1029\n",
      "Epoch 89/99\n",
      "----------\n",
      "train Loss: 0.3250 Acc: 0.1064\n",
      "val Loss: 0.3254 Acc: 0.1030\n",
      "Epoch 90/99\n",
      "----------\n",
      "train Loss: 0.3249 Acc: 0.1086\n",
      "val Loss: 0.3254 Acc: 0.1024\n",
      "Epoch 91/99\n",
      "----------\n",
      "train Loss: 0.3250 Acc: 0.1076\n",
      "val Loss: 0.3254 Acc: 0.1034\n",
      "Epoch 92/99\n",
      "----------\n",
      "train Loss: 0.3250 Acc: 0.1079\n",
      "val Loss: 0.3254 Acc: 0.1018\n",
      "Epoch 93/99\n",
      "----------\n",
      "train Loss: 0.3250 Acc: 0.1076\n",
      "val Loss: 0.3254 Acc: 0.1028\n",
      "Epoch 94/99\n",
      "----------\n",
      "train Loss: 0.3250 Acc: 0.1071\n",
      "val Loss: 0.3254 Acc: 0.1037\n",
      "Epoch 95/99\n",
      "----------\n"
     ]
    },
    {
     "name": "stdout",
     "output_type": "stream",
     "text": [
      "train Loss: 0.3250 Acc: 0.1071\n",
      "val Loss: 0.3254 Acc: 0.1049\n",
      "Epoch 96/99\n",
      "----------\n",
      "train Loss: 0.3250 Acc: 0.1051\n",
      "val Loss: 0.3254 Acc: 0.1022\n",
      "Epoch 97/99\n",
      "----------\n",
      "train Loss: 0.3250 Acc: 0.1072\n",
      "val Loss: 0.3254 Acc: 0.1051\n",
      "Epoch 98/99\n",
      "----------\n",
      "train Loss: 0.3249 Acc: 0.1083\n",
      "val Loss: 0.3254 Acc: 0.1031\n",
      "Epoch 99/99\n",
      "----------\n",
      "train Loss: 0.3249 Acc: 0.1068\n",
      "val Loss: 0.3254 Acc: 0.1028\n",
      "Best Val Acc: 0.106800\n"
     ]
    }
   ],
   "source": [
    "model = train_model(model, criterion, optimizer_ft, exp_lr_scheduler, max_M=9, num_epochs=100)"
   ]
  },
  {
   "cell_type": "markdown",
   "metadata": {
    "id": "9Qhc1JSFLzJ-"
   },
   "source": [
    "Even after 100 epochs, the accuracy hasn't really changed. This might be due to the complexity of the model, or it just isn't set up very well - it definitely needs more work. Maybe the CIFAR10 dataset isn't a great choice for how this model is set up as well. I learned a lot about trying data augmentation methods, and would like to continue working on this model specifically in the future to improve it (and get the PCam set working with it)"
   ]
  },
  {
   "cell_type": "code",
   "execution_count": null,
   "metadata": {},
   "outputs": [],
   "source": []
  }
 ],
 "metadata": {
  "accelerator": "GPU",
  "colab": {
   "authorship_tag": "ABX9TyNSClCLD8fsuGYtnffJ3aQi",
   "collapsed_sections": [],
   "include_colab_link": true,
   "name": "Augmentaion_blog_3.ipynb",
   "provenance": []
  },
  "kernelspec": {
   "display_name": "Python 3",
   "language": "python",
   "name": "python3"
  },
  "language_info": {
   "codemirror_mode": {
    "name": "ipython",
    "version": 3
   },
   "file_extension": ".py",
   "mimetype": "text/x-python",
   "name": "python",
   "nbconvert_exporter": "python",
   "pygments_lexer": "ipython3",
   "version": "3.8.5"
  }
 },
 "nbformat": 4,
 "nbformat_minor": 1
}
