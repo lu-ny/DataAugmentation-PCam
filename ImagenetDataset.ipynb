{
 "cells": [
  {
   "cell_type": "code",
   "execution_count": 1,
   "metadata": {},
   "outputs": [],
   "source": [
    "import torch\n",
    "import fastai\n",
    "\n",
    "class ImagenetDataset(torch.utils.data.Dataset):\n",
    "\n",
    "    def __init__(self, path, df, label_dict, dim = 256, transforms=None):\n",
    "        self.df = df\n",
    "        self.transforms = transforms\n",
    "        self.image_paths = get_image_files(path)\n",
    "        self.label_dict = label_dict\n",
    "        self.dim = dim\n",
    "\n",
    "    def __len__(self):\n",
    "        return len(self.image_paths)\n",
    "\n",
    "    def __getitem__(self, idx):\n",
    "        img_path = self.image_paths[idx]\n",
    "        img = cv2.imread(str(img_path))\n",
    "        img = cv2.cvtColor(img, cv2.COLOR_RGB2BGR)\n",
    "        label = self.label_dict[self.df[self.df[\"image\"] == img_path.name][\"label\"].values[0]]\n",
    "        img = A.Resize(self.dim, self.dim)(image=img)[\"image\"]\n",
    "\n",
    "        if self.transforms is not None:\n",
    "            img = self.transforms(image=img)[\"image\"]\n",
    "\n",
    "        img = F.to_tensor(img)\n",
    "        label = torch.as_tensor(label)\n",
    "        label = torch.nn.functional.one_hot(label,len(self.df[\"label\"].unique()))\n",
    "\n",
    "        return img, label.float()"
   ]
  },
  {
   "cell_type": "code",
   "execution_count": null,
   "metadata": {},
   "outputs": [],
   "source": []
  }
 ],
 "metadata": {
  "kernelspec": {
   "display_name": "Python 3",
   "language": "python",
   "name": "python3"
  },
  "language_info": {
   "codemirror_mode": {
    "name": "ipython",
    "version": 3
   },
   "file_extension": ".py",
   "mimetype": "text/x-python",
   "name": "python",
   "nbconvert_exporter": "python",
   "pygments_lexer": "ipython3",
   "version": "3.8.5"
  }
 },
 "nbformat": 4,
 "nbformat_minor": 4
}
